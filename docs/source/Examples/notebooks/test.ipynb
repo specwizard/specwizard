{
 "cells": [
  {
   "attachments": {},
   "cell_type": "markdown",
   "id": "749b96e4",
   "metadata": {},
   "source": [
    "# This is a test"
   ]
  },
  {
   "cell_type": "code",
   "execution_count": 1,
   "id": "bb8d9a9e-35e6-40d1-9b7e-8e47289c09c4",
   "metadata": {},
   "outputs": [
    {
     "name": "stdout",
     "output_type": "stream",
     "text": [
      "first\n",
      "This class defines the B-spline kernel of Monaghan and Lattanzio, as used in Gadget-2\n"
     ]
    }
   ],
   "source": [
    "import specwizard"
   ]
  },
  {
   "cell_type": "code",
   "execution_count": 2,
   "id": "7dc7bac2-8331-4d45-a052-550fc0ed1d44",
   "metadata": {
    "scrolled": true
   },
   "outputs": [
    {
     "data": {
      "text/plain": [
       "<module 'specwizard.SpecWizard_Lines' from '/cosma7/data/dp004/dc-aram1/pyspecwizard_main/gitcontrol/specwizard/specwizard/specwizard/SpecWizard_Lines.py'>"
      ]
     },
     "execution_count": 2,
     "metadata": {},
     "output_type": "execute_result"
    }
   ],
   "source": [
    "specwizard.SpecWizard_Lines"
   ]
  },
  {
   "cell_type": "code",
   "execution_count": null,
   "id": "5d295ed0-5dbb-43a4-84f0-3152adab1834",
   "metadata": {},
   "outputs": [],
   "source": []
  }
 ],
 "metadata": {
  "kernelspec": {
   "display_name": "myjupytervenv",
   "language": "python",
   "name": "myjupytervenv"
  },
  "language_info": {
   "codemirror_mode": {
    "name": "ipython",
    "version": 3
   },
   "file_extension": ".py",
   "mimetype": "text/x-python",
   "name": "python",
   "nbconvert_exporter": "python",
   "pygments_lexer": "ipython3",
   "version": "3.9.18"
  }
 },
 "nbformat": 4,
 "nbformat_minor": 5
}
