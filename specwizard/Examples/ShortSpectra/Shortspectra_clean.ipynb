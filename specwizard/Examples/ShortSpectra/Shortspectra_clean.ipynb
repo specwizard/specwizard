{
 "cells": [
  {
   "cell_type": "code",
   "execution_count": 1,
   "id": "533169d5-4947-45f8-9d61-81a46f5f7f90",
   "metadata": {},
   "outputs": [
    {
     "name": "stdout",
     "output_type": "stream",
     "text": [
      "This class defines the B-spline kernel of Monaghan and Lattanzio, as used in Gadget-2\n"
     ]
    }
   ],
   "source": [
    "import sys\n",
    "# the mock-0.3.1 dir contains testcase.py, testutils.py & mock.py\n",
    "sys.path.append('../../')\n",
    "\n",
    "from scipy.interpolate import interp1d\n",
    "\n",
    "import matplotlib.pyplot as plt\n",
    "import numpy as np\n",
    "import Phys\n",
    "import mendeleev\n",
    "# physical constants in cgs units\n",
    "constants = Phys.ReadPhys()\n",
    "import importlib\n",
    "from SpecWizard_Input import ReadData\n",
    "\n",
    "import SpecWizard_BuildInput\n",
    "SpecWizard_BuildInput = importlib.reload(SpecWizard_BuildInput)\n",
    "from SpecWizard_BuildInput import Build_Input\n",
    "\n",
    "import SpecWizard_ProjectData\n",
    "SpecWizard_ProjectData = importlib.reload(SpecWizard_ProjectData)\n",
    "from SpecWizard_ProjectData import SightLineProjection\n",
    "\n",
    "import SpecWizard_ComputeOpticaldepth\n",
    "SpecWizard_ComputeOpticaldepth = importlib.reload(SpecWizard_ComputeOpticaldepth)\n",
    "from SpecWizard_ComputeOpticaldepth import ComputeOpticaldepth\n",
    "from SpecWizard_Atomfile import Atomfile"
   ]
  },
  {
   "cell_type": "code",
   "execution_count": 4,
   "id": "e17992a3-2a7c-46fb-862b-84a9e93b3ac5",
   "metadata": {},
   "outputs": [],
   "source": [
    "import SimulationInputKeys"
   ]
  },
  {
   "cell_type": "code",
   "execution_count": 14,
   "id": "bfc58ba3-20df-4555-8139-177e3dc2ba85",
   "metadata": {},
   "outputs": [
    {
     "data": {
      "text/plain": [
       "['Hydrogen',\n",
       " 'Helium',\n",
       " 'Carbon',\n",
       " 'Nitrogen',\n",
       " 'Oxygen',\n",
       " 'Neon',\n",
       " 'Magnesium',\n",
       " 'Silicon',\n",
       " 'Iron',\n",
       " 'Europium']"
      ]
     },
     "execution_count": 14,
     "metadata": {},
     "output_type": "execute_result"
    }
   ],
   "source": [
    "SimulationInputKeys.get_simkeys(sim_name='colibre')['snapshot']['elementnames']"
   ]
  },
  {
   "cell_type": "code",
   "execution_count": 2,
   "id": "e06f66c0-aa3b-4d99-abee-50fba63689c3",
   "metadata": {},
   "outputs": [
    {
     "name": "stdout",
     "output_type": "stream",
     "text": [
      "Warning! SightLength NOT found. Setting default value: 1\n"
     ]
    }
   ],
   "source": [
    "BI     = Build_Input()\n",
    "Wizard = BI.read_from_yml(\"Wizard.yml\")"
   ]
  },
  {
   "cell_type": "code",
   "execution_count": 13,
   "id": "e6271824-e1a4-4d71-afad-c517965c365b",
   "metadata": {},
   "outputs": [
    {
     "data": {
      "text/plain": [
       "'colibre'"
      ]
     },
     "execution_count": 13,
     "metadata": {},
     "output_type": "execute_result"
    }
   ],
   "source": [
    "Wizard['file_type']['sim_type']"
   ]
  },
  {
   "cell_type": "code",
   "execution_count": 23,
   "id": "c58ec753-d51a-4f2c-8193-57f4f11dc620",
   "metadata": {},
   "outputs": [
    {
     "name": "stdout",
     "output_type": "stream",
     "text": [
      "Oxygen O VIII\n",
      "Silicon Si VI\n",
      "Hydrogen H I\n",
      "Silicon Si V\n",
      "Oxygen O IV\n",
      "Oxygen O VII\n",
      "Helium He III\n",
      "Carbon C III\n",
      "Carbon C I\n",
      "Oxygen O II\n",
      "Silicon Si VII\n",
      "Oxygen O I\n",
      "Carbon C VI\n",
      "Oxygen O III\n",
      "Silicon Si III\n",
      "Silicon Si IV\n",
      "Carbon C II\n",
      "Silicon Si X\n",
      "Oxygen O V\n",
      "Oxygen O VI\n",
      "Silicon Si IX\n",
      "Silicon Si XI\n",
      "Helium He II\n",
      "Silicon Si XIII\n",
      "Carbon C IV\n",
      "Carbon C V\n",
      "Silicon Si II\n",
      "Hydrogen H II\n",
      "Silicon Si XII\n",
      "Silicon Si VIII\n",
      "Silicon Si I\n"
     ]
    }
   ],
   "source": [
    "for ion in Wizard['ionparams']['ions-available']:\n",
    "    if ' ' in ion:\n",
    "        seperate = ion.split(\" \")\n",
    "        el_short = seperate[0]\n",
    "        print(getattr(mendeleev,el_short).name,ion)\n",
    "#        print(\"yes\")"
   ]
  },
  {
   "cell_type": "code",
   "execution_count": 4,
   "id": "5eb35472-2187-4d9a-8341-9271c27d2b6d",
   "metadata": {},
   "outputs": [
    {
     "name": "stdout",
     "output_type": "stream",
     "text": [
      "We divide Swift's smoothing length by 0.362 to convert from FWHM to extent of finite support\n"
     ]
    }
   ],
   "source": [
    "snapshot  = ReadData(wizard = Wizard)\n",
    "particles = snapshot.read_particles()  \n"
   ]
  },
  {
   "cell_type": "code",
   "execution_count": 5,
   "id": "7aa9964c-776a-4a6f-831c-5ab69e13e246",
   "metadata": {},
   "outputs": [
    {
     "data": {
      "text/plain": [
       "array([0.39324418, 0.32536572, 0.4025954 , ..., 0.19837767, 0.23200513,\n",
       "       0.1882808 ], dtype=float32)"
      ]
     },
     "execution_count": 5,
     "metadata": {},
     "output_type": "execute_result"
    }
   ],
   "source": [
    "particles['Particles']['Densities']['Value']"
   ]
  },
  {
   "cell_type": "code",
   "execution_count": 6,
   "id": "6dff23cc-e4e6-4de4-b281-eb616f4d6320",
   "metadata": {},
   "outputs": [
    {
     "data": {
      "text/plain": [
       "(0.0, 35.0)"
      ]
     },
     "execution_count": 6,
     "metadata": {},
     "output_type": "execute_result"
    },
    {
     "data": {
      "image/png": "[encoded data removed]",
      "text/plain": [
       "<Figure size 432x288 with 1 Axes>"
      ]
     },
     "metadata": {
      "needs_background": "light"
     },
     "output_type": "display_data"
    }
   ],
   "source": [
    "plt.scatter(particles['Particles']['Positions']['Value'][:,2],particles['Particles']['Positions']['Value'][:,1])\n",
    "plt.ylim(0,35)"
   ]
  },
  {
   "cell_type": "code",
   "execution_count": 7,
   "id": "750e7b3d-cadc-4b92-bfad-60c3270fc510",
   "metadata": {},
   "outputs": [
    {
     "name": "stderr",
     "output_type": "stream",
     "text": [
      "/cosma/local/Python/3.6.5/lib/python3.6/re.py:212: FutureWarning: split() requires a non-empty pattern match.\n",
      "  return _compile(pattern, flags).split(string, maxsplit)\n"
     ]
    }
   ],
   "source": [
    "sightlineprojection  = SightLineProjection(Wizard)\n",
    "projected_LOS        = sightlineprojection.ProjectData(particles)"
   ]
  },
  {
   "cell_type": "code",
   "execution_count": 68,
   "id": "02c80c28-e46e-4cc4-ba27-4bd2e456fc00",
   "metadata": {},
   "outputs": [
    {
     "data": {
      "text/plain": [
       "{'Densities': {'Value': array([0.59236249, 0.551737  , 0.52367112, ..., 0.71677636, 0.6878547 ,\n",
       "         0.64208499]),\n",
       "  'Info': {'CGSConversionFactor': 6.769911178294543e-31,\n",
       "   'VarDescription': 'Ion mass-densities',\n",
       "   'aexp-scale-exponent': -3.0,\n",
       "   'h-scale-exponent': 2.0}},\n",
       " 'Velocities': {'Value': array([-237.82270317, -237.68392985, -237.4068967 , ..., -238.28781882,\n",
       "         -238.05849243, -237.91495014]),\n",
       "  'Info': {'CGSConversionFactor': 100000.0,\n",
       "   'VarDescription': 'Ion-weighted velocities',\n",
       "   'aexp-scale-exponent': 0.5,\n",
       "   'h-scale-exponent': 0.0}},\n",
       " 'Temperatures': {'Value': array([13151.57782917, 12960.07398165, 12770.7310466 , ...,\n",
       "         13567.05053723, 13465.17655229, 13324.15190763]),\n",
       "  'Info': {'CGSConversionFactor': 1.0,\n",
       "   'VarDescription': b'Temperature [K]',\n",
       "   'aexp-scale-exponent': 0.0,\n",
       "   'h-scale-exponent': 0.0,\n",
       "   'VarDesciption': 'Ion-weighted temperatures '}}}"
      ]
     },
     "execution_count": 68,
     "metadata": {},
     "output_type": "execute_result"
    }
   ],
   "source": [
    "projected_LOS['Mass-weighted']"
   ]
  },
  {
   "cell_type": "code",
   "execution_count": 7,
   "id": "782c883c-1862-419c-bc66-18d44e5dff2e",
   "metadata": {},
   "outputs": [],
   "source": [
    "cspec          = ComputeOpticaldepth(Wizard)\n",
    "opticaldepth   = cspec.MakeAllOpticaldepth(projected_LOS)"
   ]
  },
  {
   "cell_type": "code",
   "execution_count": 24,
   "id": "38688beb-3851-405e-a90c-e8ae5692f416",
   "metadata": {},
   "outputs": [],
   "source": [
    "lambdazeros = {}\n",
    "ions = Wizard['ionparams']['Ions']\n",
    "for ion in Wizard['ionparams']['Ions']:\n",
    "    lambdazeros[ion] = opticaldepth[ion]['lambda0']"
   ]
  },
  {
   "cell_type": "code",
   "execution_count": 25,
   "id": "c3ba62d9-8cfc-4f02-8480-be969793841b",
   "metadata": {},
   "outputs": [],
   "source": [
    "vel_arr = np.arange(projected_LOS['npix']) * projected_LOS['pixel_kms']['Value']\n",
    "c_kms = constants['c'] /1e5"
   ]
  },
  {
   "cell_type": "code",
   "execution_count": 26,
   "id": "32eaf1aa-7284-4c93-ae99-11fe8d5c9f0c",
   "metadata": {},
   "outputs": [],
   "source": [
    "snap_red = snapshot.header['Cosmo']['Redshift']\n",
    "lambdaz = np.array(list(lambdazeros.values()))  * ( 1 + snap_red)"
   ]
  },
  {
   "cell_type": "code",
   "execution_count": 27,
   "id": "75e00a50-5f45-47e9-9361-dd664c8771f7",
   "metadata": {},
   "outputs": [
    {
     "name": "stdout",
     "output_type": "stream",
     "text": [
      "('Hydrogen', 'H I') 4882.744592147201 4945.469712045608\n",
      "('Helium', 'He II') 1220.157133102675 1235.831617201608\n",
      "('Carbon', 'C III') 3924.2053591839244 3974.616812622766\n",
      "('Carbon', 'C IV') 6218.300262449983 6298.18230873882\n",
      "('Oxygen', 'O II') 3351.6341474417695 3394.6901889336777\n",
      "('Oxygen', 'O III') 2408.256014526918 2439.193153344337\n"
     ]
    },
    {
     "data": {
      "text/plain": [
       "Text(0, 0.5, '$e^{\\\\tau}$')"
      ]
     },
     "execution_count": 27,
     "metadata": {},
     "output_type": "execute_result"
    },
    {
     "data": {
      "image/png": "[encoded data removed]",
      "text/plain": [
       "<Figure size 1440x504 with 13 Axes>"
      ]
     },
     "metadata": {
      "needs_background": "light"
     },
     "output_type": "display_data"
    }
   ],
   "source": [
    "lambda_spectr = np.arange(lambdaz.min()-10,lambdaz.max()+200,0.012)\n",
    "all_spectra   = np.zeros_like(lambda_spectr)\n",
    "colours = ['red','blue','green','cyan','orange','purple']\n",
    "\n",
    "fig = plt.figure(constrained_layout=True,figsize=(20, 7))\n",
    "gs = fig.add_gridspec(4, 4)\n",
    "ax1 = fig.add_subplot(gs[0, :2])\n",
    "ax2 = fig.add_subplot(gs[0, 2:])\n",
    "ax3 = fig.add_subplot(gs[1, :2])\n",
    "ax4 = fig.add_subplot(gs[1, 2:])\n",
    "ax5 = fig.add_subplot(gs[2, :2])\n",
    "ax6 = fig.add_subplot(gs[2, 2:])\n",
    "ax7 = fig.add_subplot(gs[-1, :])\n",
    "\n",
    "axess = [ax1,ax2,ax3,ax4,ax5,ax6,ax7]\n",
    "\n",
    "for axx,ion,cc in zip(axess,ions,colours):\n",
    "    lambdaz_ion    = opticaldepth[ion]['lambda0'] * ( 1 + snap_red)\n",
    "    \n",
    "    \n",
    "    od = opticaldepth[ion]['Optical depths']['Value']\n",
    "    if ion == ('Hydrogen', 'H I'):\n",
    "        od = opticaldepth['SimIons'][ion]['Optical depths']['Value']\n",
    "    \n",
    "    llinelambda_end   =  lambdaz_ion * np.exp(vel_arr/c_kms)\n",
    "        \n",
    "    axx.plot(llinelambda_end, np.exp(-od),c=cc)\n",
    "    ax7.plot(llinelambda_end, np.exp(-od),c=cc)\n",
    "\n",
    "    axx.set_title(ion[1])\n",
    "    axx.set_xlabel(r'$\\lambda [\\mathrm{\\AA}] $')\n",
    "    axx.set_ylabel(r'$e^{-\\tau}$')\n",
    "    axx2 = axx.twiny()\n",
    "    axx2.set_xlim(0,vel_arr.max())\n",
    "    #axx2.plot(vel_arr,np.zeros_like(vel_arr))\n",
    "    #axx2.cla()\n",
    "    axx2.set_xlabel(r\"$\\mathrm{v[kms^{-1}]}$\")\n",
    "    print(ion,llinelambda_end.min(),llinelambda_end.max())\n",
    "    all_spectra += Rebin(od,lambda_spectr,llinelambda_end)\n",
    "ax7.plot(lambda_spectr,np.exp(-all_spectra),alpha=0.8,c='k',zorder=0)\n",
    "ax7.set_xlabel(r'$\\lambda [\\mathrm{\\AA}] $')\n",
    "ax7.set_ylabel(r'$e^{\\tau}$')"
   ]
  },
  {
   "cell_type": "code",
   "execution_count": 28,
   "id": "33a59516-5be2-4ee6-9c16-cbff84e1e466",
   "metadata": {},
   "outputs": [],
   "source": []
  },
  {
   "cell_type": "code",
   "execution_count": 40,
   "id": "79aacc95-bdaa-4d3f-8367-67f2f49de7d9",
   "metadata": {},
   "outputs": [],
   "source": [
    "from SpecWizard_Elements import Elements"
   ]
  },
  {
   "cell_type": "code",
   "execution_count": 41,
   "id": "b9b57b8d-8021-461d-b3a7-5cad1dc1604c",
   "metadata": {},
   "outputs": [],
   "source": [
    "elements = Elements('./atom_dat.hdf5')"
   ]
  },
  {
   "cell_type": "code",
   "execution_count": 42,
   "id": "25fd5c4f-926d-4e05-aca4-3ce6305675f6",
   "metadata": {},
   "outputs": [],
   "source": [
    "hyd_dat = elementes.ElementParameters(ElementNames=['Hydrogen'])"
   ]
  },
  {
   "cell_type": "code",
   "execution_count": 43,
   "id": "725d2e45-0744-4694-b41e-cb881513d428",
   "metadata": {},
   "outputs": [],
   "source": [
    "ly_lambda0 = hyd_dat['Hydrogen']['States']['H I']['Lines']['Lambda0']\n",
    "ly_fvalues =  hyd_dat['Hydrogen']['States']['H I']['Lines']['f-value']"
   ]
  },
  {
   "cell_type": "code",
   "execution_count": 44,
   "id": "6e9b1214-6d52-4877-8b06-5e7f36629756",
   "metadata": {},
   "outputs": [],
   "source": [
    "snap_red = snapshot.header['Cosmo']['Redshift']\n",
    "lambdaz = np.array(ly_lambda0)  * ( 1 + snap_red)"
   ]
  },
  {
   "cell_type": "code",
   "execution_count": 45,
   "id": "14cdf570-5d2e-4484-8b98-32ae4d045a4b",
   "metadata": {},
   "outputs": [],
   "source": [
    "lambda_spectr = np.arange(lambdaz.min()-200,lambdaz.max()+200,0.012)\n",
    "all_spectra   = np.zeros_like(lambda_spectr)"
   ]
  },
  {
   "cell_type": "code",
   "execution_count": 48,
   "id": "9f2dbf9c-afff-403c-8b1f-76a71c1d3a85",
   "metadata": {},
   "outputs": [],
   "source": [
    "from SpecWizard_Lines import Lines\n",
    "lines = Lines( v_kms =vel_arr, box_kms=vel_arr.max())"
   ]
  },
  {
   "cell_type": "code",
   "execution_count": 49,
   "id": "4d8cda62-aa56-4622-a905-eda1060e939d",
   "metadata": {},
   "outputs": [],
   "source": [
    "no_dw = opticaldepth['SimIons'][('Hydrogen','H I')]['Optical depths']['Value']"
   ]
  },
  {
   "cell_type": "code",
   "execution_count": 53,
   "id": "ff2edb03-9df0-4f1e-879e-caef2c7ab64d",
   "metadata": {},
   "outputs": [],
   "source": [
    "\n",
    "lambda_spectr = np.arange((912*4)-100,lambdaz.max()+700,0.012)\n",
    "lambda_spectr = np.arange(2000,lambdaz.max()+700,0.012)\n",
    "\n",
    "all_spectra   = np.zeros_like(lambda_spectr)\n",
    "\n",
    "velocity_start = 0\n",
    "pixkms = 1.0\n",
    "velocity_end   = vel_from_wv(lambda_spectr.max(),lambda_spectr.min(),c_kms)\n",
    "velocity_npix  = int((velocity_end-velocity_start) * pixkms)\n",
    "velocity_shor  = int(len(no_dw)) * pixkms\n",
    "velocity_array = velocity_start + (np.arange(velocity_npix) * pixkms)\n",
    "\n",
    "all_spectra = np.zeros_like(velocity_array)\n",
    "lines = Lines( v_kms =velocity_array, box_kms=velocity_array.max())\n",
    "lines_short = Lines( v_kms =vel_arr, box_kms=vel_arr.max())\n",
    "\n",
    "ly_series = {}\n",
    "\n",
    "for i in range(len(ly_lambda0)):\n",
    "    lambdaz_ion    = ly_lambda0[i] * ( 1 + snap_red)\n",
    "    \n",
    "    if i ==0:\n",
    "        \n",
    "        #dw  = lines.convolvelorentz(no_dw)\n",
    "        dw = no_dw\n",
    "        llinelambda_end   =  lambdaz_ion * np.exp(vel_arr/c_kms)\n",
    "        vel_offset        = vel_from_wv(lambdaz_ion,lambda_spectr.min(),c_kms=c_kms)\n",
    "        vel_arr_line      = vel_offset+vel_arr\n",
    "        hi                =  Rebin(no_dw,velocity_array,vel_arr_line)\n",
    "        all_spectra       +=    hi\n",
    "        all_spectra = lines.convolvelorentz(all_spectra)\n",
    "\n",
    "        lambdaz_ion = (912 * ( 1 + snap_red))\n",
    "        vel_offset        = vel_from_wv(lambdaz_ion,lambda_spectr.min(),c_kms=c_kms)\n",
    "        vel_arr_line      = vel_offset+vel_arr\n",
    "        dum_arr           = np.zeros_like(all_spectra)\n",
    "        dum_arr          += Rebin(no_dw ,velocity_array,vel_arr_line) \n",
    "        limit = lines.convolveLymanLimit(dum_arr)\n",
    "        #limit = lines_short.convolveLymanLimit(no_dw)\n",
    "        ly_series[ly_lambda0[i]] = hi\n",
    "        ly_series[\"dla\"]   = all_spectra.copy()\n",
    "        ly_series[\"limit\"] = limit\n",
    "\n",
    "        #all_spectra += dla\n",
    "    \n",
    "    else:\n",
    "          \n",
    "        tau_line = no_dw * ly_lambda0[i] *  ly_fvalues[i] / (ly_lambda0[0] *  ly_fvalues[0])\n",
    "        vel_offset        = vel_from_wv(lambdaz_ion,lambda_spectr.min(),c_kms=c_kms)\n",
    "        vel_arr_line      = vel_offset+vel_arr\n",
    "        tau_long           = Rebin(tau_line,velocity_array,vel_arr_line)\n",
    "\n",
    "        ly_series[ly_lambda0[i]] = tau_long\n",
    "        all_spectra += tau_long\n"
   ]
  },
  {
   "cell_type": "code",
   "execution_count": 54,
   "id": "c9644bdf-6dfa-44fc-9af3-3cb312f943d2",
   "metadata": {},
   "outputs": [
    {
     "data": {
      "text/plain": [
       "(180000.0, 307745.0)"
      ]
     },
     "execution_count": 54,
     "metadata": {},
     "output_type": "execute_result"
    },
    {
     "data": {
      "image/png": "[encoded data removed]",
      "text/plain": [
       "<Figure size 1440x504 with 1 Axes>"
      ]
     },
     "metadata": {
      "needs_background": "light"
     },
     "output_type": "display_data"
    }
   ],
   "source": [
    "plt.figure(constrained_layout=True,figsize=(20, 7))\n",
    "\n",
    "plt.plot(velocity_array,np.exp(-(ly_series[1215.6701]) ))\n",
    "plt.plot(velocity_array,np.exp(-(all_spectra+0*ly_series['limit']) ))\n",
    "plt.plot(velocity_array,np.exp(-(all_spectra+ly_series['limit']) ))\n",
    "plt.xlim(180000,velocity_array.max())"
   ]
  },
  {
   "cell_type": "code",
   "execution_count": 17,
   "id": "4f4ebfd5-4615-4db5-97a3-4b93f5024a0b",
   "metadata": {},
   "outputs": [],
   "source": [
    "def Rebin(spectrum, wavelong,waveshort):\n",
    "    ''' rebin the function y(x) to the new bins xnew\n",
    "     Interpolation is performed such that the mean of the function is conserved\n",
    "     Input: \n",
    "       -spectrum: dictionary, containing\n",
    "          -L:       linear extent of the wavelength range\n",
    "          -wave:    wavelength or Hubble velocity\n",
    "          -flux:    flux\n",
    "       -wave:       new wavelength or Hubble velocioty to rebin to \n",
    "       '''\n",
    "    # determine pixel size\n",
    "    L    = waveshort.max() #spectrum[\"L\"]\n",
    "    npix = len(spectrum) #spectrum[\"npix\"]\n",
    "    pix  = L/npix\n",
    "    x0   = np.arange(npix) * pix\n",
    "    vHubble = waveshort\n",
    "    dx = vHubble[1:] -vHubble[0:-1]\n",
    "    dx = np.concatenate([dx, [L - x0[-1]]])\n",
    "    #\n",
    "    xR = np.copy(vHubble) + dx  # right side of pixel\n",
    "\n",
    "    # cumulative sum of the function y0(x0)\n",
    "    f = np.cumsum(spectrum * dx)\n",
    "\n",
    "    # new pixels\n",
    "    dxnew = wavelong[1:] - wavelong[0:-1]  # size of pixels\n",
    "    dxnew = np.concatenate([dxnew, [L - wavelong[-1]]])\n",
    "    xnewR = np.copy(wavelong) + dxnew  # right side of pixels\n",
    "\n",
    "    # interpolation function\n",
    "    finterp = interp1d(xR,\n",
    "                       f,\n",
    "                       kind='linear',\n",
    "                       bounds_error=False,\n",
    "                       fill_value=(0, f[-1]))\n",
    "    fnew = finterp(xnewR)\n",
    "\n",
    "    # rebinned value\n",
    "    fbinned = np.concatenate([[0], fnew])\n",
    "    ynew = (fbinned[1:] - fbinned[0:-1]) / dxnew\n",
    "    #\n",
    "    newspectrum         = spectrum.copy()\n",
    "    #newspectrum[\"wave\"] = np.copy(wave)\n",
    "    #newspectrum[\"flux\"] = ynew\n",
    "    return ynew"
   ]
  },
  {
   "cell_type": "code",
   "execution_count": 52,
   "id": "3051b52c-9ab4-4b35-b7c7-d119ed0c6f57",
   "metadata": {},
   "outputs": [],
   "source": [
    "def vel_from_wv(lambda_f,lambda_min,c_kms=1):\n",
    "    '''\n",
    "    Calculates velocity [km/s] from wavelength range\n",
    "    '''\n",
    "    return np.log(lambda_f/lambda_min) * c_kms"
   ]
  },
  {
   "cell_type": "code",
   "execution_count": null,
   "id": "2c35b69b-27b1-4093-a1e0-39e6667ebda0",
   "metadata": {},
   "outputs": [],
   "source": []
  }
 ],
 "metadata": {
  "kernelspec": {
   "display_name": "Python 3",
   "language": "python",
   "name": "python3"
  },
  "language_info": {
   "codemirror_mode": {
    "name": "ipython",
    "version": 3
   },
   "file_extension": ".py",
   "mimetype": "text/x-python",
   "name": "python",
   "nbconvert_exporter": "python",
   "pygments_lexer": "ipython3",
   "version": "3.6.5"
  }
 },
 "nbformat": 4,
 "nbformat_minor": 5
}
